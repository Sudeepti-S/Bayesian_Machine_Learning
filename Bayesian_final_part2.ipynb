{
 "cells": [
  {
   "cell_type": "markdown",
   "metadata": {},
   "source": [
    "## Bayesian Final Project"
   ]
  },
  {
   "cell_type": "markdown",
   "metadata": {},
   "source": [
    "### Arti Patel, Sudeepti Surapaneni, Sania Rasheed"
   ]
  },
  {
   "cell_type": "code",
   "execution_count": 1,
   "metadata": {},
   "outputs": [
    {
     "name": "stderr",
     "output_type": "stream",
     "text": [
      "/opt/anaconda3/lib/python3.7/site-packages/theano/configdefaults.py:560: UserWarning: DeprecationWarning: there is no c++ compiler.This is deprecated and with Theano 0.11 a c++ compiler will be mandatory\n",
      "  warnings.warn(\"DeprecationWarning: there is no c++ compiler.\"\n",
      "WARNING (theano.configdefaults): g++ not detected ! Theano will be unable to execute optimized C-implementations (for both CPU and GPU) and will default to Python implementations. Performance will be severely degraded. To remove this warning, set Theano flags cxx to an empty string.\n",
      "WARNING (theano.tensor.blas): Using NumPy C-API based implementation for BLAS functions.\n"
     ]
    }
   ],
   "source": [
    "import pandas as pd\n",
    "import matplotlib.pyplot as plt\n",
    "import numpy as np\n",
    "from scipy import stats\n",
    "import math\n",
    "import pymc3 as pm\n",
    "import arviz as az\n",
    "from sklearn.naive_bayes import BernoulliNB\n",
    "from sklearn.model_selection import train_test_split\n",
    "from sklearn.metrics import roc_curve\n",
    "from sklearn.metrics import roc_auc_score\n",
    "from sklearn.metrics import accuracy_score\n",
    "#from vaderSentiment.vaderSentiment import SentimentIntensityAnalyzer\n",
    "import os\n",
    "from sklearn.decomposition import PCA\n",
    "#import nltk\n",
    "from sklearn.naive_bayes import GaussianNB\n",
    "from sklearn.metrics import confusion_matrix\n",
    "from sklearn.metrics import classification_report\n",
    "from sklearn.model_selection import cross_val_predict\n",
    "from sklearn.model_selection import cross_val_score\n",
    "import scipy.stats as st"
   ]
  },
  {
   "cell_type": "code",
   "execution_count": 2,
   "metadata": {},
   "outputs": [],
   "source": [
    "#os.chdir('C:/Users/Arti Patel/Desktop/bayesian_ml/final')\n",
    "dfsub = pd.read_csv('dfsub.csv')"
   ]
  },
  {
   "cell_type": "code",
   "execution_count": 3,
   "metadata": {},
   "outputs": [
    {
     "data": {
      "text/html": [
       "<div>\n",
       "<style scoped>\n",
       "    .dataframe tbody tr th:only-of-type {\n",
       "        vertical-align: middle;\n",
       "    }\n",
       "\n",
       "    .dataframe tbody tr th {\n",
       "        vertical-align: top;\n",
       "    }\n",
       "\n",
       "    .dataframe thead th {\n",
       "        text-align: right;\n",
       "    }\n",
       "</style>\n",
       "<table border=\"1\" class=\"dataframe\">\n",
       "  <thead>\n",
       "    <tr style=\"text-align: right;\">\n",
       "      <th></th>\n",
       "      <th>label</th>\n",
       "      <th>comment</th>\n",
       "      <th>author</th>\n",
       "      <th>subreddit</th>\n",
       "      <th>score</th>\n",
       "      <th>ups</th>\n",
       "      <th>downs</th>\n",
       "      <th>date</th>\n",
       "      <th>created_utc</th>\n",
       "      <th>parent_comment</th>\n",
       "      <th>...</th>\n",
       "      <th>neg</th>\n",
       "      <th>neu</th>\n",
       "      <th>pos</th>\n",
       "      <th>compound</th>\n",
       "      <th>pcp</th>\n",
       "      <th>pc_neg</th>\n",
       "      <th>pc_neu</th>\n",
       "      <th>pc_pos</th>\n",
       "      <th>pc_compund</th>\n",
       "      <th>elong</th>\n",
       "    </tr>\n",
       "  </thead>\n",
       "  <tbody>\n",
       "    <tr>\n",
       "      <td>0</td>\n",
       "      <td>0</td>\n",
       "      <td>NC and NH.</td>\n",
       "      <td>Trumpbart</td>\n",
       "      <td>politics</td>\n",
       "      <td>2.0</td>\n",
       "      <td>-1.0</td>\n",
       "      <td>-1.0</td>\n",
       "      <td>2016-10</td>\n",
       "      <td>10/16/16 23:55</td>\n",
       "      <td>Yeah, I get that argument. At this point, I'd ...</td>\n",
       "      <td>...</td>\n",
       "      <td>0.000</td>\n",
       "      <td>0.337</td>\n",
       "      <td>0.663</td>\n",
       "      <td>0.6037</td>\n",
       "      <td>{'neg': 0.126, 'neu': 0.657, 'pos': 0.217, 'co...</td>\n",
       "      <td>0.126</td>\n",
       "      <td>0.657</td>\n",
       "      <td>0.217</td>\n",
       "      <td>0.2023</td>\n",
       "      <td>False</td>\n",
       "    </tr>\n",
       "    <tr>\n",
       "      <td>1</td>\n",
       "      <td>0</td>\n",
       "      <td>You do know west teams play against west teams...</td>\n",
       "      <td>Shbshb906</td>\n",
       "      <td>nba</td>\n",
       "      <td>-4.0</td>\n",
       "      <td>-1.0</td>\n",
       "      <td>-1.0</td>\n",
       "      <td>2016-11</td>\n",
       "      <td>11/1/16 0:24</td>\n",
       "      <td>The blazers and Mavericks (The wests 5 and 6 s...</td>\n",
       "      <td>...</td>\n",
       "      <td>0.000</td>\n",
       "      <td>0.844</td>\n",
       "      <td>0.156</td>\n",
       "      <td>0.3400</td>\n",
       "      <td>{'neg': 0.095, 'neu': 0.905, 'pos': 0.0, 'comp...</td>\n",
       "      <td>0.095</td>\n",
       "      <td>0.905</td>\n",
       "      <td>0.000</td>\n",
       "      <td>-0.3412</td>\n",
       "      <td>False</td>\n",
       "    </tr>\n",
       "    <tr>\n",
       "      <td>2</td>\n",
       "      <td>0</td>\n",
       "      <td>They were underdogs earlier today, but since G...</td>\n",
       "      <td>Creepeth</td>\n",
       "      <td>nfl</td>\n",
       "      <td>3.0</td>\n",
       "      <td>3.0</td>\n",
       "      <td>0.0</td>\n",
       "      <td>2016-09</td>\n",
       "      <td>9/22/16 21:45</td>\n",
       "      <td>They're favored to win.</td>\n",
       "      <td>...</td>\n",
       "      <td>0.000</td>\n",
       "      <td>1.000</td>\n",
       "      <td>0.000</td>\n",
       "      <td>0.0000</td>\n",
       "      <td>{'neg': 0.0, 'neu': 0.233, 'pos': 0.767, 'comp...</td>\n",
       "      <td>0.000</td>\n",
       "      <td>0.233</td>\n",
       "      <td>0.767</td>\n",
       "      <td>0.7650</td>\n",
       "      <td>False</td>\n",
       "    </tr>\n",
       "    <tr>\n",
       "      <td>3</td>\n",
       "      <td>0</td>\n",
       "      <td>I don't pay attention to her, but as long as s...</td>\n",
       "      <td>only7inches</td>\n",
       "      <td>AskReddit</td>\n",
       "      <td>0.0</td>\n",
       "      <td>0.0</td>\n",
       "      <td>0.0</td>\n",
       "      <td>2016-09</td>\n",
       "      <td>9/2/16 10:35</td>\n",
       "      <td>do you find ariana grande sexy ?</td>\n",
       "      <td>...</td>\n",
       "      <td>0.000</td>\n",
       "      <td>0.868</td>\n",
       "      <td>0.132</td>\n",
       "      <td>0.2259</td>\n",
       "      <td>{'neg': 0.0, 'neu': 0.595, 'pos': 0.405, 'comp...</td>\n",
       "      <td>0.000</td>\n",
       "      <td>0.595</td>\n",
       "      <td>0.405</td>\n",
       "      <td>0.5267</td>\n",
       "      <td>False</td>\n",
       "    </tr>\n",
       "    <tr>\n",
       "      <td>4</td>\n",
       "      <td>0</td>\n",
       "      <td>Trick or treating in general is just weird...</td>\n",
       "      <td>only7inches</td>\n",
       "      <td>AskReddit</td>\n",
       "      <td>1.0</td>\n",
       "      <td>-1.0</td>\n",
       "      <td>-1.0</td>\n",
       "      <td>2016-10</td>\n",
       "      <td>10/23/16 21:43</td>\n",
       "      <td>What's your weird or unsettling Trick or Treat...</td>\n",
       "      <td>...</td>\n",
       "      <td>0.146</td>\n",
       "      <td>0.854</td>\n",
       "      <td>0.000</td>\n",
       "      <td>-0.0516</td>\n",
       "      <td>{'neg': 0.25, 'neu': 0.517, 'pos': 0.233, 'com...</td>\n",
       "      <td>0.250</td>\n",
       "      <td>0.517</td>\n",
       "      <td>0.233</td>\n",
       "      <td>0.2023</td>\n",
       "      <td>False</td>\n",
       "    </tr>\n",
       "  </tbody>\n",
       "</table>\n",
       "<p>5 rows × 23 columns</p>\n",
       "</div>"
      ],
      "text/plain": [
       "   label                                            comment       author  \\\n",
       "0      0                                         NC and NH.    Trumpbart   \n",
       "1      0  You do know west teams play against west teams...    Shbshb906   \n",
       "2      0  They were underdogs earlier today, but since G...     Creepeth   \n",
       "3      0  I don't pay attention to her, but as long as s...  only7inches   \n",
       "4      0      Trick or treating in general is just weird...  only7inches   \n",
       "\n",
       "   subreddit  score  ups  downs     date     created_utc  \\\n",
       "0   politics    2.0 -1.0   -1.0  2016-10  10/16/16 23:55   \n",
       "1        nba   -4.0 -1.0   -1.0  2016-11    11/1/16 0:24   \n",
       "2        nfl    3.0  3.0    0.0  2016-09   9/22/16 21:45   \n",
       "3  AskReddit    0.0  0.0    0.0  2016-09    9/2/16 10:35   \n",
       "4  AskReddit    1.0 -1.0   -1.0  2016-10  10/23/16 21:43   \n",
       "\n",
       "                                      parent_comment  ...    neg    neu  \\\n",
       "0  Yeah, I get that argument. At this point, I'd ...  ...  0.000  0.337   \n",
       "1  The blazers and Mavericks (The wests 5 and 6 s...  ...  0.000  0.844   \n",
       "2                            They're favored to win.  ...  0.000  1.000   \n",
       "3                   do you find ariana grande sexy ?  ...  0.000  0.868   \n",
       "4  What's your weird or unsettling Trick or Treat...  ...  0.146  0.854   \n",
       "\n",
       "     pos  compound                                                pcp  pc_neg  \\\n",
       "0  0.663    0.6037  {'neg': 0.126, 'neu': 0.657, 'pos': 0.217, 'co...   0.126   \n",
       "1  0.156    0.3400  {'neg': 0.095, 'neu': 0.905, 'pos': 0.0, 'comp...   0.095   \n",
       "2  0.000    0.0000  {'neg': 0.0, 'neu': 0.233, 'pos': 0.767, 'comp...   0.000   \n",
       "3  0.132    0.2259  {'neg': 0.0, 'neu': 0.595, 'pos': 0.405, 'comp...   0.000   \n",
       "4  0.000   -0.0516  {'neg': 0.25, 'neu': 0.517, 'pos': 0.233, 'com...   0.250   \n",
       "\n",
       "   pc_neu pc_pos  pc_compund  elong  \n",
       "0   0.657  0.217      0.2023  False  \n",
       "1   0.905  0.000     -0.3412  False  \n",
       "2   0.233  0.767      0.7650  False  \n",
       "3   0.595  0.405      0.5267  False  \n",
       "4   0.517  0.233      0.2023  False  \n",
       "\n",
       "[5 rows x 23 columns]"
      ]
     },
     "execution_count": 3,
     "metadata": {},
     "output_type": "execute_result"
    }
   ],
   "source": [
    "dfsub.head()"
   ]
  },
  {
   "cell_type": "code",
   "execution_count": 4,
   "metadata": {},
   "outputs": [
    {
     "data": {
      "text/plain": [
       "label                     int64\n",
       "comment                  object\n",
       "author                   object\n",
       "subreddit                object\n",
       "score                   float64\n",
       "ups                     float64\n",
       "downs                   float64\n",
       "date                     object\n",
       "created_utc              object\n",
       "parent_comment           object\n",
       "comment_count             int64\n",
       "parent_comment_count      int64\n",
       "polarity                 object\n",
       "neg                     float64\n",
       "neu                     float64\n",
       "pos                     float64\n",
       "compound                float64\n",
       "pcp                      object\n",
       "pc_neg                  float64\n",
       "pc_neu                  float64\n",
       "pc_pos                  float64\n",
       "pc_compund              float64\n",
       "elong                      bool\n",
       "dtype: object"
      ]
     },
     "execution_count": 4,
     "metadata": {},
     "output_type": "execute_result"
    }
   ],
   "source": [
    "dfsub.dtypes"
   ]
  },
  {
   "cell_type": "code",
   "execution_count": 5,
   "metadata": {},
   "outputs": [
    {
     "data": {
      "text/html": [
       "<div>\n",
       "<style scoped>\n",
       "    .dataframe tbody tr th:only-of-type {\n",
       "        vertical-align: middle;\n",
       "    }\n",
       "\n",
       "    .dataframe tbody tr th {\n",
       "        vertical-align: top;\n",
       "    }\n",
       "\n",
       "    .dataframe thead th {\n",
       "        text-align: right;\n",
       "    }\n",
       "</style>\n",
       "<table border=\"1\" class=\"dataframe\">\n",
       "  <thead>\n",
       "    <tr style=\"text-align: right;\">\n",
       "      <th></th>\n",
       "      <th>label</th>\n",
       "      <th>score</th>\n",
       "      <th>ups</th>\n",
       "      <th>downs</th>\n",
       "      <th>comment_count</th>\n",
       "      <th>parent_comment_count</th>\n",
       "      <th>neg</th>\n",
       "      <th>neu</th>\n",
       "      <th>pos</th>\n",
       "      <th>compound</th>\n",
       "      <th>pc_neg</th>\n",
       "      <th>pc_neu</th>\n",
       "      <th>pc_pos</th>\n",
       "      <th>pc_compund</th>\n",
       "    </tr>\n",
       "  </thead>\n",
       "  <tbody>\n",
       "    <tr>\n",
       "      <td>count</td>\n",
       "      <td>248862.000000</td>\n",
       "      <td>248862.000000</td>\n",
       "      <td>248862.000000</td>\n",
       "      <td>248862.000000</td>\n",
       "      <td>248862.000000</td>\n",
       "      <td>248862.000000</td>\n",
       "      <td>248862.000000</td>\n",
       "      <td>248862.000000</td>\n",
       "      <td>248862.000000</td>\n",
       "      <td>248862.000000</td>\n",
       "      <td>248862.000000</td>\n",
       "      <td>248862.000000</td>\n",
       "      <td>248862.000000</td>\n",
       "      <td>248862.000000</td>\n",
       "    </tr>\n",
       "    <tr>\n",
       "      <td>mean</td>\n",
       "      <td>0.522792</td>\n",
       "      <td>8.332289</td>\n",
       "      <td>6.748467</td>\n",
       "      <td>-0.139109</td>\n",
       "      <td>10.411650</td>\n",
       "      <td>22.857491</td>\n",
       "      <td>0.098893</td>\n",
       "      <td>0.765793</td>\n",
       "      <td>0.134362</td>\n",
       "      <td>0.045106</td>\n",
       "      <td>0.104583</td>\n",
       "      <td>0.787868</td>\n",
       "      <td>0.106991</td>\n",
       "      <td>-0.000886</td>\n",
       "    </tr>\n",
       "    <tr>\n",
       "      <td>std</td>\n",
       "      <td>0.499481</td>\n",
       "      <td>72.450290</td>\n",
       "      <td>62.870999</td>\n",
       "      <td>0.346061</td>\n",
       "      <td>9.389792</td>\n",
       "      <td>33.283854</td>\n",
       "      <td>0.171798</td>\n",
       "      <td>0.234200</td>\n",
       "      <td>0.192417</td>\n",
       "      <td>0.392443</td>\n",
       "      <td>0.146689</td>\n",
       "      <td>0.186856</td>\n",
       "      <td>0.144904</td>\n",
       "      <td>0.469366</td>\n",
       "    </tr>\n",
       "    <tr>\n",
       "      <td>min</td>\n",
       "      <td>0.000000</td>\n",
       "      <td>-186.000000</td>\n",
       "      <td>-172.000000</td>\n",
       "      <td>-1.000000</td>\n",
       "      <td>1.000000</td>\n",
       "      <td>1.000000</td>\n",
       "      <td>0.000000</td>\n",
       "      <td>0.000000</td>\n",
       "      <td>0.000000</td>\n",
       "      <td>-0.989500</td>\n",
       "      <td>0.000000</td>\n",
       "      <td>0.000000</td>\n",
       "      <td>0.000000</td>\n",
       "      <td>-1.000000</td>\n",
       "    </tr>\n",
       "    <tr>\n",
       "      <td>25%</td>\n",
       "      <td>0.000000</td>\n",
       "      <td>1.000000</td>\n",
       "      <td>0.000000</td>\n",
       "      <td>0.000000</td>\n",
       "      <td>5.000000</td>\n",
       "      <td>8.000000</td>\n",
       "      <td>0.000000</td>\n",
       "      <td>0.612000</td>\n",
       "      <td>0.000000</td>\n",
       "      <td>-0.102700</td>\n",
       "      <td>0.000000</td>\n",
       "      <td>0.674000</td>\n",
       "      <td>0.000000</td>\n",
       "      <td>-0.340000</td>\n",
       "    </tr>\n",
       "    <tr>\n",
       "      <td>50%</td>\n",
       "      <td>1.000000</td>\n",
       "      <td>1.000000</td>\n",
       "      <td>1.000000</td>\n",
       "      <td>0.000000</td>\n",
       "      <td>9.000000</td>\n",
       "      <td>14.000000</td>\n",
       "      <td>0.000000</td>\n",
       "      <td>0.788000</td>\n",
       "      <td>0.000000</td>\n",
       "      <td>0.000000</td>\n",
       "      <td>0.000000</td>\n",
       "      <td>0.799000</td>\n",
       "      <td>0.043000</td>\n",
       "      <td>0.000000</td>\n",
       "    </tr>\n",
       "    <tr>\n",
       "      <td>75%</td>\n",
       "      <td>1.000000</td>\n",
       "      <td>3.000000</td>\n",
       "      <td>3.000000</td>\n",
       "      <td>0.000000</td>\n",
       "      <td>14.000000</td>\n",
       "      <td>26.000000</td>\n",
       "      <td>0.167000</td>\n",
       "      <td>1.000000</td>\n",
       "      <td>0.235000</td>\n",
       "      <td>0.340000</td>\n",
       "      <td>0.177000</td>\n",
       "      <td>1.000000</td>\n",
       "      <td>0.178000</td>\n",
       "      <td>0.361200</td>\n",
       "    </tr>\n",
       "    <tr>\n",
       "      <td>max</td>\n",
       "      <td>1.000000</td>\n",
       "      <td>9070.000000</td>\n",
       "      <td>5163.000000</td>\n",
       "      <td>0.000000</td>\n",
       "      <td>1818.000000</td>\n",
       "      <td>2751.000000</td>\n",
       "      <td>1.000000</td>\n",
       "      <td>1.000000</td>\n",
       "      <td>1.000000</td>\n",
       "      <td>0.999100</td>\n",
       "      <td>1.000000</td>\n",
       "      <td>1.000000</td>\n",
       "      <td>1.000000</td>\n",
       "      <td>0.999900</td>\n",
       "    </tr>\n",
       "  </tbody>\n",
       "</table>\n",
       "</div>"
      ],
      "text/plain": [
       "               label          score            ups          downs  \\\n",
       "count  248862.000000  248862.000000  248862.000000  248862.000000   \n",
       "mean        0.522792       8.332289       6.748467      -0.139109   \n",
       "std         0.499481      72.450290      62.870999       0.346061   \n",
       "min         0.000000    -186.000000    -172.000000      -1.000000   \n",
       "25%         0.000000       1.000000       0.000000       0.000000   \n",
       "50%         1.000000       1.000000       1.000000       0.000000   \n",
       "75%         1.000000       3.000000       3.000000       0.000000   \n",
       "max         1.000000    9070.000000    5163.000000       0.000000   \n",
       "\n",
       "       comment_count  parent_comment_count            neg            neu  \\\n",
       "count  248862.000000         248862.000000  248862.000000  248862.000000   \n",
       "mean       10.411650             22.857491       0.098893       0.765793   \n",
       "std         9.389792             33.283854       0.171798       0.234200   \n",
       "min         1.000000              1.000000       0.000000       0.000000   \n",
       "25%         5.000000              8.000000       0.000000       0.612000   \n",
       "50%         9.000000             14.000000       0.000000       0.788000   \n",
       "75%        14.000000             26.000000       0.167000       1.000000   \n",
       "max      1818.000000           2751.000000       1.000000       1.000000   \n",
       "\n",
       "                 pos       compound         pc_neg         pc_neu  \\\n",
       "count  248862.000000  248862.000000  248862.000000  248862.000000   \n",
       "mean        0.134362       0.045106       0.104583       0.787868   \n",
       "std         0.192417       0.392443       0.146689       0.186856   \n",
       "min         0.000000      -0.989500       0.000000       0.000000   \n",
       "25%         0.000000      -0.102700       0.000000       0.674000   \n",
       "50%         0.000000       0.000000       0.000000       0.799000   \n",
       "75%         0.235000       0.340000       0.177000       1.000000   \n",
       "max         1.000000       0.999100       1.000000       1.000000   \n",
       "\n",
       "              pc_pos     pc_compund  \n",
       "count  248862.000000  248862.000000  \n",
       "mean        0.106991      -0.000886  \n",
       "std         0.144904       0.469366  \n",
       "min         0.000000      -1.000000  \n",
       "25%         0.000000      -0.340000  \n",
       "50%         0.043000       0.000000  \n",
       "75%         0.178000       0.361200  \n",
       "max         1.000000       0.999900  "
      ]
     },
     "execution_count": 5,
     "metadata": {},
     "output_type": "execute_result"
    }
   ],
   "source": [
    "dfsub.describe()"
   ]
  },
  {
   "cell_type": "code",
   "execution_count": 6,
   "metadata": {},
   "outputs": [],
   "source": [
    "#convert boolean to numbers\n",
    "dfsub['elong'] = np.where(dfsub['elong']>=True, 1, 0)"
   ]
  },
  {
   "cell_type": "code",
   "execution_count": 7,
   "metadata": {},
   "outputs": [
    {
     "data": {
      "text/plain": [
       "Index(['label', 'comment', 'author', 'subreddit', 'score', 'ups', 'downs',\n",
       "       'date', 'created_utc', 'parent_comment', 'comment_count',\n",
       "       'parent_comment_count', 'polarity', 'neg', 'neu', 'pos', 'compound',\n",
       "       'pcp', 'pc_neg', 'pc_neu', 'pc_pos', 'pc_compund', 'elong'],\n",
       "      dtype='object')"
      ]
     },
     "execution_count": 7,
     "metadata": {},
     "output_type": "execute_result"
    }
   ],
   "source": [
    "dfsub.columns\n",
    "#dfsub.columns[18:22]"
   ]
  },
  {
   "cell_type": "code",
   "execution_count": 8,
   "metadata": {},
   "outputs": [],
   "source": [
    "#standardize all features\n",
    "for col in dfsub.columns[4:7]:\n",
    "    mean = dfsub[col].mean()\n",
    "    std = dfsub[col].std()\n",
    "    dfsub[col] = ((dfsub[col] - mean)/std).values\n",
    "for col in dfsub.columns[10:12]:\n",
    "    mean = dfsub[col].mean()\n",
    "    std = dfsub[col].std()\n",
    "    dfsub[col] = ((dfsub[col] - mean)/std).values\n",
    "for col in dfsub.columns[13:17]:\n",
    "    mean = dfsub[col].mean()\n",
    "    std = dfsub[col].std()\n",
    "    dfsub[col] = ((dfsub[col] - mean)/std).values\n",
    "for col in dfsub.columns[18:22]:\n",
    "    mean = dfsub[col].mean()\n",
    "    std = dfsub[col].std()\n",
    "    dfsub[col] = ((dfsub[col] - mean)/std).values"
   ]
  },
  {
   "cell_type": "code",
   "execution_count": 9,
   "metadata": {},
   "outputs": [
    {
     "data": {
      "text/html": [
       "<div>\n",
       "<style scoped>\n",
       "    .dataframe tbody tr th:only-of-type {\n",
       "        vertical-align: middle;\n",
       "    }\n",
       "\n",
       "    .dataframe tbody tr th {\n",
       "        vertical-align: top;\n",
       "    }\n",
       "\n",
       "    .dataframe thead th {\n",
       "        text-align: right;\n",
       "    }\n",
       "</style>\n",
       "<table border=\"1\" class=\"dataframe\">\n",
       "  <thead>\n",
       "    <tr style=\"text-align: right;\">\n",
       "      <th></th>\n",
       "      <th>label</th>\n",
       "      <th>score</th>\n",
       "      <th>ups</th>\n",
       "      <th>downs</th>\n",
       "      <th>comment_count</th>\n",
       "      <th>parent_comment_count</th>\n",
       "      <th>neg</th>\n",
       "      <th>neu</th>\n",
       "      <th>pos</th>\n",
       "      <th>compound</th>\n",
       "      <th>pc_neg</th>\n",
       "      <th>pc_neu</th>\n",
       "      <th>pc_pos</th>\n",
       "      <th>pc_compund</th>\n",
       "      <th>elong</th>\n",
       "    </tr>\n",
       "  </thead>\n",
       "  <tbody>\n",
       "    <tr>\n",
       "      <td>label</td>\n",
       "      <td>1.000000</td>\n",
       "      <td>-0.018016</td>\n",
       "      <td>-0.018037</td>\n",
       "      <td>0.041299</td>\n",
       "      <td>0.006826</td>\n",
       "      <td>0.015579</td>\n",
       "      <td>0.036602</td>\n",
       "      <td>-0.074813</td>\n",
       "      <td>0.062556</td>\n",
       "      <td>0.030019</td>\n",
       "      <td>0.048920</td>\n",
       "      <td>-0.031791</td>\n",
       "      <td>-0.005764</td>\n",
       "      <td>-0.043334</td>\n",
       "      <td>0.010705</td>\n",
       "    </tr>\n",
       "    <tr>\n",
       "      <td>score</td>\n",
       "      <td>-0.018016</td>\n",
       "      <td>1.000000</td>\n",
       "      <td>0.865087</td>\n",
       "      <td>-0.011392</td>\n",
       "      <td>0.006258</td>\n",
       "      <td>-0.001193</td>\n",
       "      <td>-0.000279</td>\n",
       "      <td>0.005938</td>\n",
       "      <td>-0.006701</td>\n",
       "      <td>-0.003971</td>\n",
       "      <td>0.000282</td>\n",
       "      <td>0.001325</td>\n",
       "      <td>-0.002005</td>\n",
       "      <td>-0.002371</td>\n",
       "      <td>-0.003083</td>\n",
       "    </tr>\n",
       "    <tr>\n",
       "      <td>ups</td>\n",
       "      <td>-0.018037</td>\n",
       "      <td>0.865087</td>\n",
       "      <td>1.000000</td>\n",
       "      <td>0.049542</td>\n",
       "      <td>0.005798</td>\n",
       "      <td>-0.001278</td>\n",
       "      <td>-0.001007</td>\n",
       "      <td>0.006654</td>\n",
       "      <td>-0.006943</td>\n",
       "      <td>-0.003947</td>\n",
       "      <td>-0.000253</td>\n",
       "      <td>0.001704</td>\n",
       "      <td>-0.001943</td>\n",
       "      <td>-0.001869</td>\n",
       "      <td>-0.002998</td>\n",
       "    </tr>\n",
       "    <tr>\n",
       "      <td>downs</td>\n",
       "      <td>0.041299</td>\n",
       "      <td>-0.011392</td>\n",
       "      <td>0.049542</td>\n",
       "      <td>1.000000</td>\n",
       "      <td>0.005526</td>\n",
       "      <td>0.012328</td>\n",
       "      <td>0.003357</td>\n",
       "      <td>-0.004569</td>\n",
       "      <td>0.002746</td>\n",
       "      <td>-0.001755</td>\n",
       "      <td>0.001905</td>\n",
       "      <td>0.000130</td>\n",
       "      <td>-0.002120</td>\n",
       "      <td>-0.003140</td>\n",
       "      <td>0.003062</td>\n",
       "    </tr>\n",
       "    <tr>\n",
       "      <td>comment_count</td>\n",
       "      <td>0.006826</td>\n",
       "      <td>0.006258</td>\n",
       "      <td>0.005798</td>\n",
       "      <td>0.005526</td>\n",
       "      <td>1.000000</td>\n",
       "      <td>0.087464</td>\n",
       "      <td>-0.002489</td>\n",
       "      <td>0.030620</td>\n",
       "      <td>-0.030763</td>\n",
       "      <td>0.010680</td>\n",
       "      <td>0.019382</td>\n",
       "      <td>-0.008360</td>\n",
       "      <td>-0.006205</td>\n",
       "      <td>-0.016185</td>\n",
       "      <td>-0.014098</td>\n",
       "    </tr>\n",
       "    <tr>\n",
       "      <td>parent_comment_count</td>\n",
       "      <td>0.015579</td>\n",
       "      <td>-0.001193</td>\n",
       "      <td>-0.001278</td>\n",
       "      <td>0.012328</td>\n",
       "      <td>0.087464</td>\n",
       "      <td>1.000000</td>\n",
       "      <td>0.005793</td>\n",
       "      <td>-0.014409</td>\n",
       "      <td>0.013989</td>\n",
       "      <td>0.005918</td>\n",
       "      <td>-0.006720</td>\n",
       "      <td>0.011653</td>\n",
       "      <td>-0.005842</td>\n",
       "      <td>0.009988</td>\n",
       "      <td>-0.001975</td>\n",
       "    </tr>\n",
       "    <tr>\n",
       "      <td>neg</td>\n",
       "      <td>0.036602</td>\n",
       "      <td>-0.000279</td>\n",
       "      <td>-0.001007</td>\n",
       "      <td>0.003357</td>\n",
       "      <td>-0.002489</td>\n",
       "      <td>0.005793</td>\n",
       "      <td>1.000000</td>\n",
       "      <td>-0.579649</td>\n",
       "      <td>-0.184470</td>\n",
       "      <td>-0.656963</td>\n",
       "      <td>0.092325</td>\n",
       "      <td>-0.062830</td>\n",
       "      <td>-0.011307</td>\n",
       "      <td>-0.071153</td>\n",
       "      <td>-0.016076</td>\n",
       "    </tr>\n",
       "    <tr>\n",
       "      <td>neu</td>\n",
       "      <td>-0.074813</td>\n",
       "      <td>0.005938</td>\n",
       "      <td>0.006654</td>\n",
       "      <td>-0.004569</td>\n",
       "      <td>0.030620</td>\n",
       "      <td>-0.014409</td>\n",
       "      <td>-0.579649</td>\n",
       "      <td>1.000000</td>\n",
       "      <td>-0.683433</td>\n",
       "      <td>-0.061817</td>\n",
       "      <td>-0.072608</td>\n",
       "      <td>0.093543</td>\n",
       "      <td>-0.041844</td>\n",
       "      <td>0.027432</td>\n",
       "      <td>0.023178</td>\n",
       "    </tr>\n",
       "    <tr>\n",
       "      <td>pos</td>\n",
       "      <td>0.062556</td>\n",
       "      <td>-0.006701</td>\n",
       "      <td>-0.006943</td>\n",
       "      <td>0.002746</td>\n",
       "      <td>-0.030763</td>\n",
       "      <td>0.013989</td>\n",
       "      <td>-0.184470</td>\n",
       "      <td>-0.683433</td>\n",
       "      <td>1.000000</td>\n",
       "      <td>0.662374</td>\n",
       "      <td>0.006657</td>\n",
       "      <td>-0.052053</td>\n",
       "      <td>0.062005</td>\n",
       "      <td>0.030341</td>\n",
       "      <td>-0.013334</td>\n",
       "    </tr>\n",
       "    <tr>\n",
       "      <td>compound</td>\n",
       "      <td>0.030019</td>\n",
       "      <td>-0.003971</td>\n",
       "      <td>-0.003947</td>\n",
       "      <td>-0.001755</td>\n",
       "      <td>0.010680</td>\n",
       "      <td>0.005918</td>\n",
       "      <td>-0.656963</td>\n",
       "      <td>-0.061817</td>\n",
       "      <td>0.662374</td>\n",
       "      <td>1.000000</td>\n",
       "      <td>-0.064630</td>\n",
       "      <td>0.010107</td>\n",
       "      <td>0.052962</td>\n",
       "      <td>0.084678</td>\n",
       "      <td>0.001351</td>\n",
       "    </tr>\n",
       "    <tr>\n",
       "      <td>pc_neg</td>\n",
       "      <td>0.048920</td>\n",
       "      <td>0.000282</td>\n",
       "      <td>-0.000253</td>\n",
       "      <td>0.001905</td>\n",
       "      <td>0.019382</td>\n",
       "      <td>-0.006720</td>\n",
       "      <td>0.092325</td>\n",
       "      <td>-0.072608</td>\n",
       "      <td>0.006657</td>\n",
       "      <td>-0.064630</td>\n",
       "      <td>1.000000</td>\n",
       "      <td>-0.638409</td>\n",
       "      <td>-0.186329</td>\n",
       "      <td>-0.644545</td>\n",
       "      <td>-0.000745</td>\n",
       "    </tr>\n",
       "    <tr>\n",
       "      <td>pc_neu</td>\n",
       "      <td>-0.031791</td>\n",
       "      <td>0.001325</td>\n",
       "      <td>0.001704</td>\n",
       "      <td>0.000130</td>\n",
       "      <td>-0.008360</td>\n",
       "      <td>0.011653</td>\n",
       "      <td>-0.062830</td>\n",
       "      <td>0.093543</td>\n",
       "      <td>-0.052053</td>\n",
       "      <td>0.010107</td>\n",
       "      <td>-0.638409</td>\n",
       "      <td>1.000000</td>\n",
       "      <td>-0.626997</td>\n",
       "      <td>0.035804</td>\n",
       "      <td>0.002588</td>\n",
       "    </tr>\n",
       "    <tr>\n",
       "      <td>pc_pos</td>\n",
       "      <td>-0.005764</td>\n",
       "      <td>-0.002005</td>\n",
       "      <td>-0.001943</td>\n",
       "      <td>-0.002120</td>\n",
       "      <td>-0.006205</td>\n",
       "      <td>-0.005842</td>\n",
       "      <td>-0.011307</td>\n",
       "      <td>-0.041844</td>\n",
       "      <td>0.062005</td>\n",
       "      <td>0.052962</td>\n",
       "      <td>-0.186329</td>\n",
       "      <td>-0.626997</td>\n",
       "      <td>1.000000</td>\n",
       "      <td>0.606314</td>\n",
       "      <td>-0.002700</td>\n",
       "    </tr>\n",
       "    <tr>\n",
       "      <td>pc_compund</td>\n",
       "      <td>-0.043334</td>\n",
       "      <td>-0.002371</td>\n",
       "      <td>-0.001869</td>\n",
       "      <td>-0.003140</td>\n",
       "      <td>-0.016185</td>\n",
       "      <td>0.009988</td>\n",
       "      <td>-0.071153</td>\n",
       "      <td>0.027432</td>\n",
       "      <td>0.030341</td>\n",
       "      <td>0.084678</td>\n",
       "      <td>-0.644545</td>\n",
       "      <td>0.035804</td>\n",
       "      <td>0.606314</td>\n",
       "      <td>1.000000</td>\n",
       "      <td>-0.000443</td>\n",
       "    </tr>\n",
       "    <tr>\n",
       "      <td>elong</td>\n",
       "      <td>0.010705</td>\n",
       "      <td>-0.003083</td>\n",
       "      <td>-0.002998</td>\n",
       "      <td>0.003062</td>\n",
       "      <td>-0.014098</td>\n",
       "      <td>-0.001975</td>\n",
       "      <td>-0.016076</td>\n",
       "      <td>0.023178</td>\n",
       "      <td>-0.013334</td>\n",
       "      <td>0.001351</td>\n",
       "      <td>-0.000745</td>\n",
       "      <td>0.002588</td>\n",
       "      <td>-0.002700</td>\n",
       "      <td>-0.000443</td>\n",
       "      <td>1.000000</td>\n",
       "    </tr>\n",
       "  </tbody>\n",
       "</table>\n",
       "</div>"
      ],
      "text/plain": [
       "                         label     score       ups     downs  comment_count  \\\n",
       "label                 1.000000 -0.018016 -0.018037  0.041299       0.006826   \n",
       "score                -0.018016  1.000000  0.865087 -0.011392       0.006258   \n",
       "ups                  -0.018037  0.865087  1.000000  0.049542       0.005798   \n",
       "downs                 0.041299 -0.011392  0.049542  1.000000       0.005526   \n",
       "comment_count         0.006826  0.006258  0.005798  0.005526       1.000000   \n",
       "parent_comment_count  0.015579 -0.001193 -0.001278  0.012328       0.087464   \n",
       "neg                   0.036602 -0.000279 -0.001007  0.003357      -0.002489   \n",
       "neu                  -0.074813  0.005938  0.006654 -0.004569       0.030620   \n",
       "pos                   0.062556 -0.006701 -0.006943  0.002746      -0.030763   \n",
       "compound              0.030019 -0.003971 -0.003947 -0.001755       0.010680   \n",
       "pc_neg                0.048920  0.000282 -0.000253  0.001905       0.019382   \n",
       "pc_neu               -0.031791  0.001325  0.001704  0.000130      -0.008360   \n",
       "pc_pos               -0.005764 -0.002005 -0.001943 -0.002120      -0.006205   \n",
       "pc_compund           -0.043334 -0.002371 -0.001869 -0.003140      -0.016185   \n",
       "elong                 0.010705 -0.003083 -0.002998  0.003062      -0.014098   \n",
       "\n",
       "                      parent_comment_count       neg       neu       pos  \\\n",
       "label                             0.015579  0.036602 -0.074813  0.062556   \n",
       "score                            -0.001193 -0.000279  0.005938 -0.006701   \n",
       "ups                              -0.001278 -0.001007  0.006654 -0.006943   \n",
       "downs                             0.012328  0.003357 -0.004569  0.002746   \n",
       "comment_count                     0.087464 -0.002489  0.030620 -0.030763   \n",
       "parent_comment_count              1.000000  0.005793 -0.014409  0.013989   \n",
       "neg                               0.005793  1.000000 -0.579649 -0.184470   \n",
       "neu                              -0.014409 -0.579649  1.000000 -0.683433   \n",
       "pos                               0.013989 -0.184470 -0.683433  1.000000   \n",
       "compound                          0.005918 -0.656963 -0.061817  0.662374   \n",
       "pc_neg                           -0.006720  0.092325 -0.072608  0.006657   \n",
       "pc_neu                            0.011653 -0.062830  0.093543 -0.052053   \n",
       "pc_pos                           -0.005842 -0.011307 -0.041844  0.062005   \n",
       "pc_compund                        0.009988 -0.071153  0.027432  0.030341   \n",
       "elong                            -0.001975 -0.016076  0.023178 -0.013334   \n",
       "\n",
       "                      compound    pc_neg    pc_neu    pc_pos  pc_compund  \\\n",
       "label                 0.030019  0.048920 -0.031791 -0.005764   -0.043334   \n",
       "score                -0.003971  0.000282  0.001325 -0.002005   -0.002371   \n",
       "ups                  -0.003947 -0.000253  0.001704 -0.001943   -0.001869   \n",
       "downs                -0.001755  0.001905  0.000130 -0.002120   -0.003140   \n",
       "comment_count         0.010680  0.019382 -0.008360 -0.006205   -0.016185   \n",
       "parent_comment_count  0.005918 -0.006720  0.011653 -0.005842    0.009988   \n",
       "neg                  -0.656963  0.092325 -0.062830 -0.011307   -0.071153   \n",
       "neu                  -0.061817 -0.072608  0.093543 -0.041844    0.027432   \n",
       "pos                   0.662374  0.006657 -0.052053  0.062005    0.030341   \n",
       "compound              1.000000 -0.064630  0.010107  0.052962    0.084678   \n",
       "pc_neg               -0.064630  1.000000 -0.638409 -0.186329   -0.644545   \n",
       "pc_neu                0.010107 -0.638409  1.000000 -0.626997    0.035804   \n",
       "pc_pos                0.052962 -0.186329 -0.626997  1.000000    0.606314   \n",
       "pc_compund            0.084678 -0.644545  0.035804  0.606314    1.000000   \n",
       "elong                 0.001351 -0.000745  0.002588 -0.002700   -0.000443   \n",
       "\n",
       "                         elong  \n",
       "label                 0.010705  \n",
       "score                -0.003083  \n",
       "ups                  -0.002998  \n",
       "downs                 0.003062  \n",
       "comment_count        -0.014098  \n",
       "parent_comment_count -0.001975  \n",
       "neg                  -0.016076  \n",
       "neu                   0.023178  \n",
       "pos                  -0.013334  \n",
       "compound              0.001351  \n",
       "pc_neg               -0.000745  \n",
       "pc_neu                0.002588  \n",
       "pc_pos               -0.002700  \n",
       "pc_compund           -0.000443  \n",
       "elong                 1.000000  "
      ]
     },
     "execution_count": 9,
     "metadata": {},
     "output_type": "execute_result"
    }
   ],
   "source": [
    "dfsub.corr(method ='pearson')"
   ]
  },
  {
   "cell_type": "code",
   "execution_count": 10,
   "metadata": {},
   "outputs": [],
   "source": [
    "#random split 75/25 train/test\n",
    "X_train, X_test, y_train, y_test = train_test_split(dfsub.loc[:,['score','comment_count','parent_comment_count','neg','pc_neg','elong']], \n",
    "                                                    dfsub['label'], random_state=42)"
   ]
  },
  {
   "cell_type": "code",
   "execution_count": 11,
   "metadata": {},
   "outputs": [],
   "source": [
    "#pca = PCA(.95)\n",
    "pca = PCA(n_components=1)\n",
    "#using 1 component since we want to plot, however ideally we want to keep number that retains most variability. 4 would be ideal here"
   ]
  },
  {
   "cell_type": "code",
   "execution_count": 12,
   "metadata": {},
   "outputs": [
    {
     "data": {
      "text/plain": [
       "PCA(copy=True, iterated_power='auto', n_components=1, random_state=None,\n",
       "    svd_solver='auto', tol=0.0, whiten=False)"
      ]
     },
     "execution_count": 12,
     "metadata": {},
     "output_type": "execute_result"
    }
   ],
   "source": [
    "#fit pca for training set X\n",
    "pca.fit(X_train)"
   ]
  },
  {
   "cell_type": "code",
   "execution_count": 13,
   "metadata": {},
   "outputs": [],
   "source": [
    "#75/35 train test split"
   ]
  },
  {
   "cell_type": "code",
   "execution_count": 14,
   "metadata": {},
   "outputs": [],
   "source": [
    "pca_xtrain = pca.transform(X_train)\n",
    "pca_xtest = pca.transform(X_test)\n",
    "loadings = pca.components_"
   ]
  },
  {
   "cell_type": "code",
   "execution_count": 15,
   "metadata": {},
   "outputs": [
    {
     "data": {
      "text/plain": [
       "array([[-0.02869761,  0.04692183,  0.02370585,  0.70029371,  0.71133701,\n",
       "        -0.00109269]])"
      ]
     },
     "execution_count": 15,
     "metadata": {},
     "output_type": "execute_result"
    }
   ],
   "source": [
    "#linear combinations of the features used\n",
    "loadings"
   ]
  },
  {
   "cell_type": "code",
   "execution_count": 16,
   "metadata": {},
   "outputs": [
    {
     "name": "stdout",
     "output_type": "stream",
     "text": [
      "[1.08905319]\n"
     ]
    }
   ],
   "source": [
    "print(pca.explained_variance_)"
   ]
  },
  {
   "cell_type": "code",
   "execution_count": 18,
   "metadata": {},
   "outputs": [
    {
     "data": {
      "image/svg+xml": [
       "<?xml version=\"1.0\" encoding=\"UTF-8\" standalone=\"no\"?>\n",
       "<!DOCTYPE svg PUBLIC \"-//W3C//DTD SVG 1.1//EN\"\n",
       " \"http://www.w3.org/Graphics/SVG/1.1/DTD/svg11.dtd\">\n",
       "<!-- Generated by graphviz version 2.40.1 (20161225.0304)\n",
       " -->\n",
       "<!-- Title: %3 Pages: 1 -->\n",
       "<svg width=\"300pt\" height=\"154pt\"\n",
       " viewBox=\"0.00 0.00 299.84 154.00\" xmlns=\"http://www.w3.org/2000/svg\" xmlns:xlink=\"http://www.w3.org/1999/xlink\">\n",
       "<g id=\"graph0\" class=\"graph\" transform=\"scale(1 1) rotate(0) translate(4 150)\">\n",
       "<title>%3</title>\n",
       "<polygon fill=\"#ffffff\" stroke=\"transparent\" points=\"-4,4 -4,-150 295.8412,-150 295.8412,4 -4,4\"/>\n",
       "<g id=\"clust1\" class=\"cluster\">\n",
       "<title>cluster186,646</title>\n",
       "<path fill=\"none\" stroke=\"#000000\" d=\"M91.4382,-8C91.4382,-8 197.4382,-8 197.4382,-8 203.4382,-8 209.4382,-14 209.4382,-20 209.4382,-20 209.4382,-70 209.4382,-70 209.4382,-76 203.4382,-82 197.4382,-82 197.4382,-82 91.4382,-82 91.4382,-82 85.4382,-82 79.4382,-76 79.4382,-70 79.4382,-70 79.4382,-20 79.4382,-20 79.4382,-14 85.4382,-8 91.4382,-8\"/>\n",
       "<text text-anchor=\"middle\" x=\"178.6882\" y=\"-14.8\" font-family=\"Times,serif\" font-size=\"14.00\" fill=\"#000000\">186,646</text>\n",
       "</g>\n",
       "<!-- zbetaj -->\n",
       "<g id=\"node1\" class=\"node\">\n",
       "<title>zbetaj</title>\n",
       "<ellipse fill=\"none\" stroke=\"#000000\" cx=\"67.4382\" cy=\"-128\" rx=\"67.3765\" ry=\"18\"/>\n",
       "<text text-anchor=\"middle\" x=\"67.4382\" y=\"-123.8\" font-family=\"Times,serif\" font-size=\"14.00\" fill=\"#000000\">zbetaj ~ Normal</text>\n",
       "</g>\n",
       "<!-- y -->\n",
       "<g id=\"node3\" class=\"node\">\n",
       "<title>y</title>\n",
       "<ellipse fill=\"#d3d3d3\" stroke=\"#000000\" cx=\"144.4382\" cy=\"-56\" rx=\"57.2794\" ry=\"18\"/>\n",
       "<text text-anchor=\"middle\" x=\"144.4382\" y=\"-51.8\" font-family=\"Times,serif\" font-size=\"14.00\" fill=\"#000000\">y ~ Bernoulli</text>\n",
       "</g>\n",
       "<!-- zbetaj&#45;&gt;y -->\n",
       "<g id=\"edge1\" class=\"edge\">\n",
       "<title>zbetaj&#45;&gt;y</title>\n",
       "<path fill=\"none\" stroke=\"#000000\" d=\"M86.0778,-110.5708C95.8196,-101.4616 107.8976,-90.1679 118.5341,-80.2221\"/>\n",
       "<polygon fill=\"#000000\" stroke=\"#000000\" points=\"121.0565,-82.6551 125.9703,-73.2687 116.2756,-77.5422 121.0565,-82.6551\"/>\n",
       "</g>\n",
       "<!-- zbeta0 -->\n",
       "<g id=\"node2\" class=\"node\">\n",
       "<title>zbeta0</title>\n",
       "<ellipse fill=\"none\" stroke=\"#000000\" cx=\"222.4382\" cy=\"-128\" rx=\"69.306\" ry=\"18\"/>\n",
       "<text text-anchor=\"middle\" x=\"222.4382\" y=\"-123.8\" font-family=\"Times,serif\" font-size=\"14.00\" fill=\"#000000\">zbeta0 ~ Normal</text>\n",
       "</g>\n",
       "<!-- zbeta0&#45;&gt;y -->\n",
       "<g id=\"edge2\" class=\"edge\">\n",
       "<title>zbeta0&#45;&gt;y</title>\n",
       "<path fill=\"none\" stroke=\"#000000\" d=\"M203.5566,-110.5708C193.6883,-101.4616 181.4534,-90.1679 170.6788,-80.2221\"/>\n",
       "<polygon fill=\"#000000\" stroke=\"#000000\" points=\"172.868,-77.4797 163.146,-73.2687 168.12,-82.6233 172.868,-77.4797\"/>\n",
       "</g>\n",
       "</g>\n",
       "</svg>\n"
      ],
      "text/plain": [
       "<graphviz.dot.Digraph at 0x1c29eb63d0>"
      ]
     },
     "execution_count": 18,
     "metadata": {},
     "output_type": "execute_result"
    }
   ],
   "source": [
    "#logistic model with normal priors for both intercept and coefficient\n",
    "with pm.Model() as logistic_model:\n",
    "        beta0 = pm.Normal('zbeta0', mu=0, sd=2)\n",
    "        betaj = pm.Normal('zbetaj', mu=0, sd=2)\n",
    "        #beta_flat = pm.Beta('betaflat',alpha = 1, beta=1)\n",
    "        mu =  pm.math.sigmoid(beta0 + pm.math.dot(betaj, pca_xtrain.T))\n",
    "    \n",
    "        outcome = pm.Bernoulli(\"y\", mu, observed=y_train)\n",
    "pm.model_to_graphviz(logistic_model)"
   ]
  },
  {
   "cell_type": "code",
   "execution_count": null,
   "metadata": {},
   "outputs": [],
   "source": [
    "#variational fit, 50k iterations\n",
    "SEED = 202\n",
    "with logistic_model:\n",
    "    approx = pm.fit(50000, method = 'advi', random_seed = SEED)"
   ]
  },
  {
   "cell_type": "code",
   "execution_count": null,
   "metadata": {},
   "outputs": [],
   "source": [
    "#posterior densities for betas\n",
    "pm.plot_posterior(approx.sample(1000))"
   ]
  },
  {
   "cell_type": "code",
   "execution_count": 28,
   "metadata": {},
   "outputs": [],
   "source": [
    "s = approx.sample(1000)"
   ]
  },
  {
   "cell_type": "code",
   "execution_count": 29,
   "metadata": {},
   "outputs": [
    {
     "name": "stderr",
     "output_type": "stream",
     "text": [
      "100%|██████████| 100/100 [00:02<00:00, 35.49it/s]\n"
     ]
    }
   ],
   "source": [
    "#samples posterier predictive prob\n",
    "ppc = pm.sample_posterior_predictive(s, model=logistic_model, samples=100)"
   ]
  },
  {
   "cell_type": "code",
   "execution_count": 53,
   "metadata": {},
   "outputs": [
    {
     "data": {
      "text/plain": [
       "(62216, 1)"
      ]
     },
     "execution_count": 53,
     "metadata": {},
     "output_type": "execute_result"
    }
   ],
   "source": [
    "#np.array(pca_xtest).shape"
   ]
  },
  {
   "cell_type": "code",
   "execution_count": 51,
   "metadata": {},
   "outputs": [
    {
     "data": {
      "text/plain": [
       "(100, 1, 186646)"
      ]
     },
     "execution_count": 51,
     "metadata": {},
     "output_type": "execute_result"
    }
   ],
   "source": [
    "#np.array(ppc['y']).shape"
   ]
  },
  {
   "cell_type": "code",
   "execution_count": 58,
   "metadata": {},
   "outputs": [],
   "source": [
    "def invlogit(x):\n",
    "    return np.exp(x) / (1 + np.exp(x))"
   ]
  },
  {
   "cell_type": "code",
   "execution_count": 60,
   "metadata": {},
   "outputs": [
    {
     "data": {
      "image/png": "[encoded data removed]",
      "text/plain": [
       "<Figure size 864x432 with 1 Axes>"
      ]
     },
     "metadata": {
      "needs_background": "light"
     },
     "output_type": "display_data"
    }
   ],
   "source": [
    "#plot of post prob and actual outcomes\n",
    "_, ax = plt.subplots(figsize=(12, 6))\n",
    "\n",
    "b = st.beta((ppc['y'] == 1).sum(axis=0), (ppc['y'] == 0).sum(axis=0))\n",
    "\n",
    "# estimated probability\n",
    "ax.scatter(x=pca_xtrain, y=b.mean())\n",
    "\n",
    "# error bars on the estimate\n",
    "plt.vlines(pca_xtrain, *b.interval(0.95))\n",
    "\n",
    "# actual outcomes\n",
    "ax.scatter(x=pca_xtrain,\n",
    "           y=y_train, marker='x')\n",
    "\n",
    "# True probabilities\n",
    "x = np.linspace(pca_xtrain.min(), pca_xtrain.max())\n",
    "ax.plot(x, invlogit(x), linestyle='-')\n",
    "\n",
    "\n",
    "ax.set_xlabel('predictor')\n",
    "ax.set_ylabel('outcome');"
   ]
  },
  {
   "cell_type": "code",
   "execution_count": 64,
   "metadata": {},
   "outputs": [
    {
     "data": {
      "image/svg+xml": [
       "<?xml version=\"1.0\" encoding=\"UTF-8\" standalone=\"no\"?>\n",
       "<!DOCTYPE svg PUBLIC \"-//W3C//DTD SVG 1.1//EN\"\n",
       " \"http://www.w3.org/Graphics/SVG/1.1/DTD/svg11.dtd\">\n",
       "<!-- Generated by graphviz version 2.40.1 (20161225.0304)\n",
       " -->\n",
       "<!-- Title: %3 Pages: 1 -->\n",
       "<svg width=\"308pt\" height=\"155pt\"\n",
       " viewBox=\"0.00 0.00 308.04 155.00\" xmlns=\"http://www.w3.org/2000/svg\" xmlns:xlink=\"http://www.w3.org/1999/xlink\">\n",
       "<g id=\"graph0\" class=\"graph\" transform=\"scale(1 1) rotate(0) translate(4 151)\">\n",
       "<title>%3</title>\n",
       "<polygon fill=\"#ffffff\" stroke=\"transparent\" points=\"-4,4 -4,-151 304.0375,-151 304.0375,4 -4,4\"/>\n",
       "<g id=\"clust1\" class=\"cluster\">\n",
       "<title>cluster62,216</title>\n",
       "<path fill=\"none\" stroke=\"#000000\" d=\"M93.5438,-8C93.5438,-8 203.5438,-8 203.5438,-8 209.5438,-8 215.5438,-14 215.5438,-20 215.5438,-20 215.5438,-71 215.5438,-71 215.5438,-77 209.5438,-83 203.5438,-83 203.5438,-83 93.5438,-83 93.5438,-83 87.5438,-83 81.5438,-77 81.5438,-71 81.5438,-71 81.5438,-20 81.5438,-20 81.5438,-14 87.5438,-8 93.5438,-8\"/>\n",
       "<text text-anchor=\"middle\" x=\"188.0438\" y=\"-15.8\" font-family=\"Times,serif\" font-size=\"14.00\" fill=\"#000000\">62,216</text>\n",
       "</g>\n",
       "<!-- zbetaj -->\n",
       "<g id=\"node1\" class=\"node\">\n",
       "<title>zbetaj</title>\n",
       "<ellipse fill=\"none\" stroke=\"#000000\" cx=\"69.5438\" cy=\"-129\" rx=\"69.5877\" ry=\"18\"/>\n",
       "<text text-anchor=\"middle\" x=\"69.5438\" y=\"-125.3\" font-family=\"Times,serif\" font-size=\"14.00\" fill=\"#000000\">zbetaj ~ Normal</text>\n",
       "</g>\n",
       "<!-- y -->\n",
       "<g id=\"node3\" class=\"node\">\n",
       "<title>y</title>\n",
       "<ellipse fill=\"#d3d3d3\" stroke=\"#000000\" cx=\"148.5438\" cy=\"-57\" rx=\"59.2899\" ry=\"18\"/>\n",
       "<text text-anchor=\"middle\" x=\"148.5438\" y=\"-53.3\" font-family=\"Times,serif\" font-size=\"14.00\" fill=\"#000000\">y ~ Bernoulli</text>\n",
       "</g>\n",
       "<!-- zbetaj&#45;&gt;y -->\n",
       "<g id=\"edge1\" class=\"edge\">\n",
       "<title>zbetaj&#45;&gt;y</title>\n",
       "<path fill=\"none\" stroke=\"#000000\" d=\"M88.6675,-111.5708C98.6624,-102.4616 111.0541,-91.1679 121.9669,-81.2221\"/>\n",
       "<polygon fill=\"#000000\" stroke=\"#000000\" points=\"124.5629,-83.5916 129.5962,-74.2687 119.8477,-78.4179 124.5629,-83.5916\"/>\n",
       "</g>\n",
       "<!-- zbeta0 -->\n",
       "<g id=\"node2\" class=\"node\">\n",
       "<title>zbeta0</title>\n",
       "<ellipse fill=\"none\" stroke=\"#000000\" cx=\"228.5438\" cy=\"-129\" rx=\"71.4873\" ry=\"18\"/>\n",
       "<text text-anchor=\"middle\" x=\"228.5438\" y=\"-125.3\" font-family=\"Times,serif\" font-size=\"14.00\" fill=\"#000000\">zbeta0 ~ Normal</text>\n",
       "</g>\n",
       "<!-- zbeta0&#45;&gt;y -->\n",
       "<g id=\"edge2\" class=\"edge\">\n",
       "<title>zbeta0&#45;&gt;y</title>\n",
       "<path fill=\"none\" stroke=\"#000000\" d=\"M209.1781,-111.5708C199.0567,-102.4616 186.5081,-91.1679 175.4572,-81.2221\"/>\n",
       "<polygon fill=\"#000000\" stroke=\"#000000\" points=\"177.5056,-78.3568 167.7313,-74.2687 172.8228,-83.5599 177.5056,-78.3568\"/>\n",
       "</g>\n",
       "</g>\n",
       "</svg>\n"
      ],
      "text/plain": [
       "<graphviz.dot.Digraph at 0x1c6044fc18>"
      ]
     },
     "execution_count": 64,
     "metadata": {},
     "output_type": "execute_result"
    }
   ],
   "source": [
    "with pm.Model() as logistic_model_t:\n",
    "        beta0 = pm.Normal('zbeta0', mu=0, sd=2)\n",
    "        betaj = pm.Normal('zbetaj', mu=0, sd=2)\n",
    "        #beta_flat = pm.Beta('betaflat',alpha = 1, beta=1)\n",
    "        mu =  pm.math.sigmoid(beta0 + pm.math.dot(betaj, pca_xtest.T))\n",
    "    \n",
    "        outcome = pm.Bernoulli(\"y\", mu, observed=y_test)\n",
    "pm.model_to_graphviz(logistic_model_t)"
   ]
  },
  {
   "cell_type": "code",
   "execution_count": 65,
   "metadata": {},
   "outputs": [
    {
     "name": "stderr",
     "output_type": "stream",
     "text": [
      "Average Loss = 42,982: 100%|██████████| 50000/50000 [04:23<00:00, 189.58it/s]\n",
      "Finished [100%]: Average Loss = 42,982\n"
     ]
    }
   ],
   "source": [
    "SEED = 202\n",
    "with logistic_model_t:\n",
    "    approx1 = pm.fit(50000, method = 'advi', random_seed = SEED)"
   ]
  },
  {
   "cell_type": "code",
   "execution_count": 70,
   "metadata": {},
   "outputs": [],
   "source": [
    "s1 = approx1.sample(1000)"
   ]
  },
  {
   "cell_type": "code",
   "execution_count": 71,
   "metadata": {},
   "outputs": [
    {
     "name": "stderr",
     "output_type": "stream",
     "text": [
      "100%|██████████| 100/100 [00:00<00:00, 137.39it/s]\n"
     ]
    }
   ],
   "source": [
    "ppc1 = pm.sample_posterior_predictive(s1, model=logistic_model_t, samples=100)"
   ]
  },
  {
   "cell_type": "code",
   "execution_count": 72,
   "metadata": {},
   "outputs": [
    {
     "data": {
      "text/plain": [
       "(100, 1, 62216)"
      ]
     },
     "execution_count": 72,
     "metadata": {},
     "output_type": "execute_result"
    }
   ],
   "source": [
    "np.array(ppc1['y']).shape"
   ]
  },
  {
   "cell_type": "code",
   "execution_count": 104,
   "metadata": {},
   "outputs": [
    {
     "data": {
      "image/png": "[encoded data removed]",
      "text/plain": [
       "<Figure size 864x432 with 1 Axes>"
      ]
     },
     "metadata": {
      "needs_background": "light"
     },
     "output_type": "display_data"
    }
   ],
   "source": [
    "_, ax = plt.subplots(figsize=(12, 6))\n",
    "\n",
    "b1 = st.beta((ppc1['y'] == 1).sum(axis=0), (ppc1['y'] == 0).sum(axis=0))\n",
    "\n",
    "# estimated probability\n",
    "ax.scatter(x=pca_xtest, y=b1.mean())\n",
    "\n",
    "# error bars on the estimate\n",
    "plt.vlines(pca_xtest, *b1.interval(0.95), colors=\"lightblue\")\n",
    "\n",
    "# actual outcomes\n",
    "ax.scatter(x=pca_xtest,\n",
    "           y=y_test, marker='x')\n",
    "\n",
    "# True probabilities\n",
    "x = np.linspace(pca_xtest.min(), pca_xtest.max())\n",
    "ax.plot(x, invlogit(x), linestyle='-')\n",
    "\n",
    "\n",
    "ax.set_xlabel('predictor')\n",
    "ax.set_ylabel('outcome');"
   ]
  },
  {
   "cell_type": "code",
   "execution_count": 69,
   "metadata": {},
   "outputs": [],
   "source": [
    "#naive bayes model\n",
    "gnb = GaussianNB()\n",
    "\n",
    "gnb.fit(X_train, y_train)\n",
    "\n",
    "y_pred = gnb.predict_proba(X_test)"
   ]
  },
  {
   "cell_type": "code",
   "execution_count": 70,
   "metadata": {},
   "outputs": [
    {
     "name": "stdout",
     "output_type": "stream",
     "text": [
      "0.5363629544699592\n",
      "              precision    recall  f1-score   support\n",
      "\n",
      "           0       0.56      0.12      0.20     88912\n",
      "           1       0.53      0.91      0.67     97734\n",
      "\n",
      "    accuracy                           0.54    186646\n",
      "   macro avg       0.55      0.52      0.44    186646\n",
      "weighted avg       0.55      0.54      0.45    186646\n",
      "\n"
     ]
    }
   ],
   "source": [
    "#classication report after cross validating\n",
    "cv_predicted = cross_val_predict(gnb, X_train, y_train, cv=10)\n",
    "print (accuracy_score(y_train, cv_predicted))\n",
    "\n",
    "print (classification_report(y_train, cv_predicted))"
   ]
  },
  {
   "cell_type": "code",
   "execution_count": 71,
   "metadata": {},
   "outputs": [
    {
     "name": "stdout",
     "output_type": "stream",
     "text": [
      "AUC: 56.82%\n"
     ]
    }
   ],
   "source": [
    "#print AUC\n",
    "y_pred = y_pred[:,1]\n",
    "gnb_auc = roc_auc_score(y_test, y_pred)\n",
    "print(\"AUC: %.2f%%\" % (gnb_auc * 100.0))\n",
    "gnb_fpr, gnb_tpr, gnb_thresholds = roc_curve(y_test, y_pred)"
   ]
  },
  {
   "cell_type": "code",
   "execution_count": 72,
   "metadata": {},
   "outputs": [
    {
     "data": {
      "text/plain": [
       "[<matplotlib.lines.Line2D at 0x1ada0524748>]"
      ]
     },
     "execution_count": 72,
     "metadata": {},
     "output_type": "execute_result"
    },
    {
     "data": {
      "image/png": "[encoded data removed]",
      "text/plain": [
       "<Figure size 432x288 with 1 Axes>"
      ]
     },
     "metadata": {
      "needs_background": "light"
     },
     "output_type": "display_data"
    }
   ],
   "source": [
    "#ROC curve - not very accurate, almost random at 50/50\n",
    "plt.plot(gnb_fpr,gnb_tpr)"
   ]
  },
  {
   "cell_type": "code",
   "execution_count": null,
   "metadata": {},
   "outputs": [],
   "source": []
  }
 ],
 "metadata": {
  "kernelspec": {
   "display_name": "Python 3",
   "language": "python",
   "name": "python3"
  },
  "language_info": {
   "codemirror_mode": {
    "name": "ipython",
    "version": 3
   },
   "file_extension": ".py",
   "mimetype": "text/x-python",
   "name": "python",
   "nbconvert_exporter": "python",
   "pygments_lexer": "ipython3",
   "version": "3.7.4"
  }
 },
 "nbformat": 4,
 "nbformat_minor": 2
}
